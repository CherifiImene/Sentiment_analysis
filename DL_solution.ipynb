{
  "cells": [
    {
      "cell_type": "markdown",
      "metadata": {
        "id": "WTr5jv8sRHRE"
      },
      "source": [
        "# Import necessary packages"
      ]
    },
    {
      "cell_type": "code",
      "execution_count": null,
      "metadata": {
        "id": "zBAI2-TrPJB4"
      },
      "outputs": [],
      "source": [
        "import tensorflow as tf\n",
        "import numpy as np\n",
        "import matplotlib.pyplot as plt\n",
        "\n",
        "import keras\n",
        "import os\n",
        "\n",
        "# For data preparation and cleaning\n",
        "import re\n",
        "import string\n",
        "from tensorflow.keras.layers.experimental.preprocessing import TextVectorization\n",
        "\n",
        "# to load the dataset\n",
        "from tensorflow.keras.preprocessing import text_dataset_from_directory\n",
        "\n",
        "# to create the DL model\n",
        "from tensorflow.keras import layers\n",
        "from tensorflow.keras.regularizers import l1,l2,l1_l2\n",
        "from tensorflow.keras import losses"
      ]
    },
    {
      "cell_type": "code",
      "execution_count": null,
      "metadata": {
        "colab": {
          "base_uri": "https://localhost:8080/"
        },
        "id": "htV_mj2SRukQ",
        "outputId": "ecc94ec6-2e43-4aef-c012-36ae46e2f3ba"
      },
      "outputs": [
        {
          "data": {
            "text/plain": [
              "['urls_unsup.txt',\n",
              " 'urls_pos.txt',\n",
              " 'urls_neg.txt',\n",
              " 'labeledBow.feat',\n",
              " 'unsupBow.feat',\n",
              " 'neg',\n",
              " 'pos']"
            ]
          },
          "execution_count": 4,
          "metadata": {},
          "output_type": "execute_result"
        }
      ],
      "source": [
        "dataset_dir = \"./Dataset/original/aclImdb\"\n",
        "train_dir = os.path.join(dataset_dir, 'train')\n",
        "test_dir = os.path.join(dataset_dir, 'test')\n",
        "os.listdir(train_dir)"
      ]
    },
    {
      "cell_type": "markdown",
      "metadata": {
        "id": "T5k3Y4v-Td_r"
      },
      "source": [
        "## Load Dataset"
      ]
    },
    {
      "cell_type": "code",
      "execution_count": null,
      "metadata": {
        "colab": {
          "base_uri": "https://localhost:8080/"
        },
        "id": "wKKcwYnWSuQb",
        "outputId": "b794984f-2792-4895-8d52-fdaaf785c242"
      },
      "outputs": [
        {
          "name": "stdout",
          "output_type": "stream",
          "text": [
            "Found 25000 files belonging to 2 classes.\n",
            "Using 22500 files for training.\n",
            "Found 25000 files belonging to 2 classes.\n",
            "Using 2500 files for validation.\n",
            "Found 25000 files belonging to 2 classes.\n"
          ]
        }
      ],
      "source": [
        "batch_size = 50\n",
        "seed = 42\n",
        "\n",
        "raw_train_ds = tf.keras.preprocessing.text_dataset_from_directory(\n",
        "    train_dir, \n",
        "    batch_size=batch_size, \n",
        "    validation_split=0.1, \n",
        "    subset='training', \n",
        "    seed=seed\n",
        ")\n",
        "\n",
        "raw_val_ds = tf.keras.preprocessing.text_dataset_from_directory(\n",
        "    train_dir, \n",
        "    batch_size=batch_size, \n",
        "    validation_split=0.1, \n",
        "    subset='validation', \n",
        "    seed=seed\n",
        ")\n",
        "\n",
        "raw_test_ds = tf.keras.preprocessing.text_dataset_from_directory(\n",
        "    test_dir, \n",
        "    batch_size=batch_size,\n",
        "    seed=seed\n",
        ")\n"
      ]
    },
    {
      "cell_type": "code",
      "execution_count": null,
      "metadata": {
        "colab": {
          "base_uri": "https://localhost:8080/"
        },
        "id": "5Q75JClPUSgt",
        "outputId": "0f55a9c4-bc28-4ff3-993d-5104fbe1d4c3"
      },
      "outputs": [
        {
          "name": "stdout",
          "output_type": "stream",
          "text": [
            "Label 0 corresponds to neg\n",
            "Label 1 corresponds to pos\n"
          ]
        }
      ],
      "source": [
        "print(\"Label 0 corresponds to\", raw_train_ds.class_names[0])\n",
        "print(\"Label 1 corresponds to\", raw_train_ds.class_names[1])"
      ]
    },
    {
      "cell_type": "markdown",
      "metadata": {
        "id": "zQ44GNZBU3cb"
      },
      "source": [
        "# Prepare Dataset for training"
      ]
    },
    {
      "cell_type": "markdown",
      "metadata": {
        "id": "XuPbbpk6U8j7"
      },
      "source": [
        "## Remove HTML Tag"
      ]
    },
    {
      "cell_type": "code",
      "execution_count": null,
      "metadata": {
        "id": "5-FUzvZcUxWA"
      },
      "outputs": [],
      "source": [
        "def custom_standardization(input_data):\n",
        "    lowercase = tf.strings.lower(input_data)\n",
        "    stripped_html = tf.strings.regex_replace(lowercase, '<br />', ' ')\n",
        "    \n",
        "    return tf.strings.regex_replace(stripped_html,\n",
        "                                  '[%s]' % re.escape(string.punctuation),\n",
        "                                  '')"
      ]
    },
    {
      "cell_type": "markdown",
      "metadata": {
        "id": "nmYXWXxcVOvP"
      },
      "source": [
        "## Standardize, tokenize, and vectorize the data"
      ]
    },
    {
      "cell_type": "code",
      "execution_count": null,
      "metadata": {
        "id": "Z1PvkvQvVMAX"
      },
      "outputs": [],
      "source": [
        "max_features = 10000\n",
        "sequence_length = 250\n",
        "\n",
        "vectorize_layer = TextVectorization(\n",
        "    standardize=custom_standardization,\n",
        "    max_tokens=max_features,\n",
        "    output_mode='int',\n",
        "    output_sequence_length=sequence_length)"
      ]
    },
    {
      "cell_type": "markdown",
      "metadata": {},
      "source": [
        "#### Note:\n",
        "The next step will adapt the TextVectorization layer to map the text into integers. It performs data cleaning first on the text, by lowercasing all the letters, then standardize the text to finally tokenize it.\n",
        "\n",
        "This operation took 30 min."
      ]
    },
    {
      "cell_type": "code",
      "execution_count": null,
      "metadata": {
        "id": "zyo8Uxb1Vd5Z"
      },
      "outputs": [],
      "source": [
        "train_text = raw_train_ds.map(lambda x, y: x)\n",
        "vectorize_layer.adapt(train_text)"
      ]
    },
    {
      "cell_type": "code",
      "execution_count": null,
      "metadata": {
        "id": "hIwv8FnLViI1"
      },
      "outputs": [],
      "source": [
        "def vectorize_text(text, label):\n",
        "    text = tf.expand_dims(text, -1)\n",
        "    return vectorize_layer(text), label"
      ]
    },
    {
      "cell_type": "markdown",
      "metadata": {},
      "source": [
        "## Example of vectorization"
      ]
    },
    {
      "cell_type": "code",
      "execution_count": null,
      "metadata": {
        "colab": {
          "base_uri": "https://localhost:8080/"
        },
        "id": "BvP27E6bVodq",
        "outputId": "88669544-b063-4f4d-960a-51c9faedb6a3"
      },
      "outputs": [
        {
          "name": "stdout",
          "output_type": "stream",
          "text": [
            "Review tf.Tensor(b'Prominent attorney Walter Pidgeon takes a murder case pro bono, wins an acquittal and discovers that his client (Keefe Braselle) was not only guilty but part of an extortion ring reaching to the highest eschelons of the city. Panged by his own complicity, he undertakes an investigation, stumbles onto the identity of the \"unknown man\" who heads the syndicate, and murders him.<br /><br />The ironies engage when Braselle is charged with this second murder and Pidgeon must defend him by pointing to the existence of another \"unknown man\" -- himself. Though somewhat short of urban grit and long on rhetoric, the Unknown Man belongs to the noir cycle less by style or structure than by its acknowledgement of the pervasive corruption of American municipal politics that came to light in the postwar years.', shape=(), dtype=string)\n",
            "Label pos\n",
            "Vectorized review (<tf.Tensor: shape=(1, 250), dtype=int64, numpy=\n",
            "array([[5711, 5036, 2246,    1,  294,    4,  582,  407, 5533,    1, 2769,\n",
            "          33,    1,    3, 2057,   12,   23, 8492,    1,    1,   13,   21,\n",
            "          61, 2382,   18,  169,    5,   33,    1, 1725, 4392,    6,    2,\n",
            "        4002,    1,    5,    2,  534,    1,   32,   23,  194,    1,   26,\n",
            "           1,   33, 3588, 5701, 1620,    2, 2121,    5,    2, 1807,  131,\n",
            "          36, 1847,    2,    1,    3, 1460,   85,    2,    1, 4329,   51,\n",
            "           1,    7, 5323,   16,   11,  330,  582,    3,    1,  218, 4514,\n",
            "          85,   32, 7425,    6,    2, 2040,    5,  154, 1807,  131,  299,\n",
            "         149,  637,  348,    5, 2570,    1,    3,  204,   20,    1,    2,\n",
            "        1807,  131, 3107,    6,    2, 1443, 6925,  323,   32,  428,   40,\n",
            "        2374,   71,   32,   29,    1,    5,    2,    1, 4294,    5,  313,\n",
            "           1, 2466,   12,  372,    6,  693,    8,    2, 6670,  147,    0,\n",
            "           0,    0,    0,    0,    0,    0,    0,    0,    0,    0,    0,\n",
            "           0,    0,    0,    0,    0,    0,    0,    0,    0,    0,    0,\n",
            "           0,    0,    0,    0,    0,    0,    0,    0,    0,    0,    0,\n",
            "           0,    0,    0,    0,    0,    0,    0,    0,    0,    0,    0,\n",
            "           0,    0,    0,    0,    0,    0,    0,    0,    0,    0,    0,\n",
            "           0,    0,    0,    0,    0,    0,    0,    0,    0,    0,    0,\n",
            "           0,    0,    0,    0,    0,    0,    0,    0,    0,    0,    0,\n",
            "           0,    0,    0,    0,    0,    0,    0,    0,    0,    0,    0,\n",
            "           0,    0,    0,    0,    0,    0,    0,    0,    0,    0,    0,\n",
            "           0,    0,    0,    0,    0,    0,    0,    0,    0,    0,    0,\n",
            "           0,    0,    0,    0,    0,    0,    0,    0]])>, <tf.Tensor: shape=(), dtype=int32, numpy=1>)\n"
          ]
        }
      ],
      "source": [
        "text_batch, label_batch = next(iter(raw_train_ds))\n",
        "first_review, first_label = text_batch[0], label_batch[0]\n",
        "\n",
        "print(\"Review\", first_review)\n",
        "print(\"Label\", raw_train_ds.class_names[first_label])\n",
        "print(\"Vectorized review\", vectorize_text(first_review, first_label))"
      ]
    },
    {
      "cell_type": "code",
      "execution_count": null,
      "metadata": {
        "colab": {
          "base_uri": "https://localhost:8080/"
        },
        "id": "JiwL-ZZMVw5l",
        "outputId": "16b197fa-305c-4fc1-b42f-d90719866ceb"
      },
      "outputs": [
        {
          "name": "stdout",
          "output_type": "stream",
          "text": [
            "1287 --->  nobody\n",
            " 313 --->  american\n",
            "Vocabulary size: 10000\n"
          ]
        }
      ],
      "source": [
        "print(\"1287 ---> \",vectorize_layer.get_vocabulary()[1287])\n",
        "print(\" 313 ---> \",vectorize_layer.get_vocabulary()[313])\n",
        "print('Vocabulary size: {}'.format(len(vectorize_layer.get_vocabulary())))"
      ]
    },
    {
      "cell_type": "markdown",
      "metadata": {
        "id": "wyIg1lh1V7kw"
      },
      "source": [
        "## Vectorization on train,validation and test datasets"
      ]
    },
    {
      "cell_type": "code",
      "execution_count": null,
      "metadata": {
        "id": "02FARXczV1tX"
      },
      "outputs": [],
      "source": [
        "train_ds = raw_train_ds.map(vectorize_text)\n",
        "val_ds = raw_val_ds.map(vectorize_text)\n",
        "test_ds = raw_test_ds.map(vectorize_text)"
      ]
    },
    {
      "cell_type": "markdown",
      "metadata": {},
      "source": [
        "### Cache and Prefetch the data for better performance"
      ]
    },
    {
      "cell_type": "code",
      "execution_count": null,
      "metadata": {
        "id": "l0BMQK-mWB3P"
      },
      "outputs": [],
      "source": [
        "AUTOTUNE = tf.data.experimental.AUTOTUNE\n",
        "\n",
        "train_ds = train_ds.cache().prefetch(buffer_size=AUTOTUNE)\n",
        "val_ds = val_ds.cache().prefetch(buffer_size=AUTOTUNE)\n",
        "test_ds = test_ds.cache().prefetch(buffer_size=AUTOTUNE)"
      ]
    },
    {
      "cell_type": "code",
      "execution_count": null,
      "metadata": {
        "colab": {
          "base_uri": "https://localhost:8080/"
        },
        "id": "oVsbSom6mHAT",
        "outputId": "7f191a36-f052-42ba-ce9a-24426ff258c3"
      },
      "outputs": [
        {
          "name": "stdout",
          "output_type": "stream",
          "text": [
            "(<tf.Tensor: shape=(50, 250), dtype=int64, numpy=\n",
            "array([[   2,   17, 3758, ...,    6,    1,   23],\n",
            "       [ 397,    4,  775, ...,    0,    0,    0],\n",
            "       [   2, 1086,    5, ...,   16,   23,    1],\n",
            "       ...,\n",
            "       [  10,   41,  181, ...,    0,    0,    0],\n",
            "       [ 870,  613,  400, ...,  148,  802,   38],\n",
            "       [  10,   25,    6, ...,    0,    0,    0]])>, <tf.Tensor: shape=(50,), dtype=int32, numpy=\n",
            "array([1, 1, 0, 1, 0, 0, 1, 1, 1, 1, 1, 1, 1, 0, 0, 1, 0, 0, 0, 0, 0, 0,\n",
            "       1, 0, 1, 0, 1, 1, 1, 1, 0, 1, 1, 0, 1, 1, 0, 0, 0, 0, 1, 1, 0, 1,\n",
            "       0, 1, 0, 1, 1, 1], dtype=int32)>)\n"
          ]
        }
      ],
      "source": [
        "for x in train_ds.take(1):\n",
        "  print(x)"
      ]
    },
    {
      "cell_type": "markdown",
      "metadata": {
        "id": "OPp4vt0CWLNs"
      },
      "source": [
        "# Building the model"
      ]
    },
    {
      "cell_type": "code",
      "execution_count": null,
      "metadata": {
        "colab": {
          "base_uri": "https://localhost:8080/"
        },
        "id": "dnZHN0UwWN2t",
        "outputId": "cd1e2ba6-dd64-4d50-9e77-7f22d0eb8e96"
      },
      "outputs": [
        {
          "name": "stdout",
          "output_type": "stream",
          "text": [
            "Model: \"sequential_1\"\n",
            "_________________________________________________________________\n",
            " Layer (type)                Output Shape              Param #   \n",
            "=================================================================\n",
            " embedding_1 (Embedding)     (None, None, 20)          200020    \n",
            "                                                                 \n",
            " dropout_2 (Dropout)         (None, None, 20)          0         \n",
            "                                                                 \n",
            " bidirectional_1 (Bidirectio  (None, None, 40)         6560      \n",
            " nal)                                                            \n",
            "                                                                 \n",
            " global_average_pooling1d_1   (None, 40)               0         \n",
            " (GlobalAveragePooling1D)                                        \n",
            "                                                                 \n",
            " dropout_3 (Dropout)         (None, 40)                0         \n",
            "                                                                 \n",
            " dense_1 (Dense)             (None, 1)                 41        \n",
            "                                                                 \n",
            "=================================================================\n",
            "Total params: 206,621\n",
            "Trainable params: 206,621\n",
            "Non-trainable params: 0\n",
            "_________________________________________________________________\n"
          ]
        }
      ],
      "source": [
        "embedding_dim = 20\n",
        "\n",
        "model = tf.keras.Sequential([\n",
        "  layers.Embedding(max_features + 1, embedding_dim),\n",
        "  layers.Dropout(0.2),\n",
        "  layers.Bidirectional(layers.LSTM(20, return_sequences=True,dropout=0.6, activity_regularizer=l2(0.01))),\n",
        "  layers.GlobalAveragePooling1D(),\n",
        "  layers.Dropout(0.2),\n",
        "  layers.Dense(1,activation=\"sigmoid\")])\n",
        "\n",
        "model.summary()"
      ]
    },
    {
      "cell_type": "code",
      "execution_count": null,
      "metadata": {
        "id": "1nULHzBXXcqH"
      },
      "outputs": [],
      "source": [
        "model.compile(loss=losses.BinaryCrossentropy(from_logits=True),\n",
        "              optimizer='adam',\n",
        "              metrics=tf.metrics.BinaryAccuracy(threshold=0.5))"
      ]
    },
    {
      "cell_type": "code",
      "execution_count": null,
      "metadata": {
        "colab": {
          "base_uri": "https://localhost:8080/"
        },
        "id": "1Khm4vutYGs4",
        "outputId": "68a8f3f6-80e0-4a85-87aa-70c738e4fe7c"
      },
      "outputs": [
        {
          "name": "stdout",
          "output_type": "stream",
          "text": [
            "Epoch 1/40\n",
            "450/450 [==============================] - 834s 2s/step - loss: 0.6547 - binary_accuracy: 0.5695 - val_loss: 0.5824 - val_binary_accuracy: 0.6780\n",
            "Epoch 2/40\n",
            "450/450 [==============================] - 9s 19ms/step - loss: 0.5226 - binary_accuracy: 0.8326 - val_loss: 0.4896 - val_binary_accuracy: 0.8664\n",
            "Epoch 3/40\n",
            "450/450 [==============================] - 8s 19ms/step - loss: 0.4380 - binary_accuracy: 0.8921 - val_loss: 0.4543 - val_binary_accuracy: 0.8740\n",
            "Epoch 4/40\n",
            "450/450 [==============================] - 8s 19ms/step - loss: 0.3895 - binary_accuracy: 0.9104 - val_loss: 0.4207 - val_binary_accuracy: 0.8752\n",
            "Epoch 5/40\n",
            "450/450 [==============================] - 9s 19ms/step - loss: 0.3549 - binary_accuracy: 0.9204 - val_loss: 0.4311 - val_binary_accuracy: 0.8720\n",
            "Epoch 6/40\n",
            "450/450 [==============================] - 9s 19ms/step - loss: 0.3394 - binary_accuracy: 0.9212 - val_loss: 0.4111 - val_binary_accuracy: 0.8676\n",
            "Epoch 7/40\n",
            "450/450 [==============================] - 9s 19ms/step - loss: 0.3125 - binary_accuracy: 0.9278 - val_loss: 0.4025 - val_binary_accuracy: 0.8704\n",
            "Epoch 8/40\n",
            "450/450 [==============================] - 9s 19ms/step - loss: 0.2909 - binary_accuracy: 0.9340 - val_loss: 0.3905 - val_binary_accuracy: 0.8660\n",
            "Epoch 9/40\n",
            "450/450 [==============================] - 9s 19ms/step - loss: 0.2788 - binary_accuracy: 0.9362 - val_loss: 0.3808 - val_binary_accuracy: 0.8672\n",
            "Epoch 10/40\n",
            "450/450 [==============================] - 9s 19ms/step - loss: 0.2603 - binary_accuracy: 0.9399 - val_loss: 0.3923 - val_binary_accuracy: 0.8648\n",
            "Epoch 11/40\n",
            "450/450 [==============================] - 9s 19ms/step - loss: 0.2609 - binary_accuracy: 0.9368 - val_loss: 0.3763 - val_binary_accuracy: 0.8744\n",
            "Epoch 12/40\n",
            "450/450 [==============================] - 9s 19ms/step - loss: 0.2423 - binary_accuracy: 0.9452 - val_loss: 0.3993 - val_binary_accuracy: 0.8644\n",
            "Epoch 13/40\n",
            "450/450 [==============================] - 9s 19ms/step - loss: 0.2208 - binary_accuracy: 0.9501 - val_loss: 0.3799 - val_binary_accuracy: 0.8600\n",
            "Epoch 14/40\n",
            "450/450 [==============================] - 9s 19ms/step - loss: 0.2102 - binary_accuracy: 0.9525 - val_loss: 0.3956 - val_binary_accuracy: 0.8544\n",
            "Epoch 15/40\n",
            "450/450 [==============================] - 9s 19ms/step - loss: 0.2082 - binary_accuracy: 0.9515 - val_loss: 0.3945 - val_binary_accuracy: 0.8644\n",
            "Epoch 16/40\n",
            "450/450 [==============================] - 9s 19ms/step - loss: 0.2183 - binary_accuracy: 0.9449 - val_loss: 0.4140 - val_binary_accuracy: 0.8552\n",
            "Epoch 17/40\n",
            "450/450 [==============================] - 9s 19ms/step - loss: 0.2070 - binary_accuracy: 0.9476 - val_loss: 0.4070 - val_binary_accuracy: 0.8620\n",
            "Epoch 18/40\n",
            "450/450 [==============================] - 9s 19ms/step - loss: 0.1965 - binary_accuracy: 0.9532 - val_loss: 0.4715 - val_binary_accuracy: 0.8272\n",
            "Epoch 19/40\n",
            "450/450 [==============================] - 9s 19ms/step - loss: 0.1910 - binary_accuracy: 0.9543 - val_loss: 0.5134 - val_binary_accuracy: 0.7880\n",
            "Epoch 20/40\n",
            "450/450 [==============================] - 9s 19ms/step - loss: 0.1862 - binary_accuracy: 0.9562 - val_loss: 0.4181 - val_binary_accuracy: 0.8464\n",
            "Epoch 21/40\n",
            "450/450 [==============================] - 9s 19ms/step - loss: 0.1748 - binary_accuracy: 0.9610 - val_loss: 0.4616 - val_binary_accuracy: 0.8524\n",
            "Epoch 22/40\n",
            "450/450 [==============================] - 9s 19ms/step - loss: 0.1720 - binary_accuracy: 0.9596 - val_loss: 0.4650 - val_binary_accuracy: 0.8292\n",
            "Epoch 23/40\n",
            "450/450 [==============================] - 9s 19ms/step - loss: 0.1843 - binary_accuracy: 0.9523 - val_loss: 0.3823 - val_binary_accuracy: 0.8620\n",
            "Epoch 24/40\n",
            "450/450 [==============================] - 9s 19ms/step - loss: 0.1795 - binary_accuracy: 0.9523 - val_loss: 0.4205 - val_binary_accuracy: 0.8636\n",
            "Epoch 25/40\n",
            "450/450 [==============================] - 9s 19ms/step - loss: 0.1657 - binary_accuracy: 0.9592 - val_loss: 0.4690 - val_binary_accuracy: 0.8552\n",
            "Epoch 26/40\n",
            "450/450 [==============================] - 9s 19ms/step - loss: 0.1589 - binary_accuracy: 0.9599 - val_loss: 0.3957 - val_binary_accuracy: 0.8596\n",
            "Epoch 27/40\n",
            "450/450 [==============================] - 9s 19ms/step - loss: 0.1477 - binary_accuracy: 0.9644 - val_loss: 0.4084 - val_binary_accuracy: 0.8568\n",
            "Epoch 28/40\n",
            "450/450 [==============================] - 9s 19ms/step - loss: 0.1547 - binary_accuracy: 0.9631 - val_loss: 0.4022 - val_binary_accuracy: 0.8644\n",
            "Epoch 29/40\n",
            "450/450 [==============================] - 9s 19ms/step - loss: 0.1514 - binary_accuracy: 0.9644 - val_loss: 0.4121 - val_binary_accuracy: 0.8560\n",
            "Epoch 30/40\n",
            "450/450 [==============================] - 9s 19ms/step - loss: 0.1483 - binary_accuracy: 0.9630 - val_loss: 0.4280 - val_binary_accuracy: 0.8592\n",
            "Epoch 31/40\n",
            "450/450 [==============================] - 9s 19ms/step - loss: 0.1452 - binary_accuracy: 0.9644 - val_loss: 0.4818 - val_binary_accuracy: 0.8540\n",
            "Epoch 32/40\n",
            "450/450 [==============================] - 9s 19ms/step - loss: 0.1377 - binary_accuracy: 0.9663 - val_loss: 0.4448 - val_binary_accuracy: 0.8616\n",
            "Epoch 33/40\n",
            "450/450 [==============================] - 9s 20ms/step - loss: 0.1278 - binary_accuracy: 0.9700 - val_loss: 0.5030 - val_binary_accuracy: 0.8540\n",
            "Epoch 34/40\n",
            "450/450 [==============================] - 9s 19ms/step - loss: 0.1239 - binary_accuracy: 0.9711 - val_loss: 0.4805 - val_binary_accuracy: 0.8544\n",
            "Epoch 35/40\n",
            "450/450 [==============================] - 9s 19ms/step - loss: 0.1366 - binary_accuracy: 0.9648 - val_loss: 0.4658 - val_binary_accuracy: 0.8608\n",
            "Epoch 36/40\n",
            "450/450 [==============================] - 9s 19ms/step - loss: 0.1494 - binary_accuracy: 0.9595 - val_loss: 0.4413 - val_binary_accuracy: 0.8624\n",
            "Epoch 37/40\n",
            "450/450 [==============================] - 8s 19ms/step - loss: 0.1477 - binary_accuracy: 0.9610 - val_loss: 0.4793 - val_binary_accuracy: 0.8572\n",
            "Epoch 38/40\n",
            "450/450 [==============================] - 9s 19ms/step - loss: 0.1446 - binary_accuracy: 0.9616 - val_loss: 0.4125 - val_binary_accuracy: 0.8588\n",
            "Epoch 39/40\n",
            "450/450 [==============================] - 9s 19ms/step - loss: 0.1332 - binary_accuracy: 0.9669 - val_loss: 0.4765 - val_binary_accuracy: 0.8584\n",
            "Epoch 40/40\n",
            "450/450 [==============================] - 9s 19ms/step - loss: 0.1218 - binary_accuracy: 0.9703 - val_loss: 0.4676 - val_binary_accuracy: 0.8588\n"
          ]
        }
      ],
      "source": [
        "epochs = 40\n",
        "history = model.fit(\n",
        "    train_ds,\n",
        "    validation_data=val_ds,\n",
        "    epochs=epochs)"
      ]
    },
    {
      "cell_type": "markdown",
      "metadata": {
        "id": "62AOqf2HYNo8"
      },
      "source": [
        "## Plot accuracy and Loss"
      ]
    },
    {
      "cell_type": "code",
      "execution_count": null,
      "metadata": {
        "colab": {
          "base_uri": "https://localhost:8080/",
          "height": 621
        },
        "id": "vSZjIjeUYNTh",
        "outputId": "91ef1e28-01df-4f0d-9d11-adb39645d46a"
      },
      "outputs": [
        {
          "data": {
            "image/png": "[encoded data removed]",
            "text/plain": [
              "<Figure size 720x720 with 2 Axes>"
            ]
          },
          "metadata": {
            "needs_background": "light"
          },
          "output_type": "display_data"
        }
      ],
      "source": [
        "history_dict = history.history\n",
        "\n",
        "acc = history_dict['binary_accuracy']\n",
        "val_acc = history_dict['val_binary_accuracy']\n",
        "loss = history_dict['loss']\n",
        "val_loss = history_dict['val_loss']\n",
        "\n",
        "\n",
        "epochs_list = range(epochs)\n",
        "\n",
        "fig, axes = plt.subplots(1,2,figsize=(10,10))\n",
        "\n",
        "# Loss \n",
        "axes[0].plot(epochs_list, loss, 'r', label='Training loss')\n",
        "axes[0].plot(epochs_list, val_loss, 'b', label='Validation loss')\n",
        "axes[0].set_title('Training and validation loss')\n",
        "\n",
        "axes[0].set_xlabel('Epochs')\n",
        "axes[0].set_ylabel('Loss')\n",
        "axes[0].legend()\n",
        "\n",
        "# accuracy\n",
        "axes[1].plot(epochs_list, acc, 'r', label='Training accuracy')\n",
        "axes[1].plot(epochs_list, val_acc, 'b', label='Validation accuracy')\n",
        "axes[1].set_title('Training and validation accuracy')\n",
        "\n",
        "axes[1].set_xlabel('Epochs')\n",
        "axes[1].set_ylabel('Accuracy')\n",
        "axes[1].legend()\n",
        "\n",
        "plt.show()"
      ]
    },
    {
      "cell_type": "markdown",
      "metadata": {
        "id": "V5MOHvygYX6I"
      },
      "source": [
        "## Evaluate model on test dataset"
      ]
    },
    {
      "cell_type": "code",
      "execution_count": null,
      "metadata": {
        "colab": {
          "base_uri": "https://localhost:8080/"
        },
        "id": "kEKzPlgeYXiC",
        "outputId": "fe9a6241-bf8c-4fd5-c24f-197b0dc3ca53"
      },
      "outputs": [
        {
          "name": "stdout",
          "output_type": "stream",
          "text": [
            "500/500 [==============================] - 9533s 19s/step - loss: 0.5437 - binary_accuracy: 0.8361\n",
            "Loss:  0.543701171875\n",
            "Accuracy:  0.836080014705658\n"
          ]
        }
      ],
      "source": [
        "loss, accuracy = model.evaluate(test_ds)\n",
        "\n",
        "print(\"Loss: \", loss)\n",
        "print(\"Accuracy: \", accuracy)"
      ]
    },
    {
      "cell_type": "markdown",
      "metadata": {},
      "source": [
        "## Saving the Rnn model"
      ]
    },
    {
      "cell_type": "code",
      "execution_count": null,
      "metadata": {
        "id": "OaZj-IM0ndzz"
      },
      "outputs": [],
      "source": [
        "model.save('./models/DL_solution/rnn_model_1.h5')"
      ]
    },
    {
      "cell_type": "markdown",
      "metadata": {
        "id": "B7ylu1DiYSRB"
      },
      "source": [
        "## Save the model with the vectorization layer"
      ]
    },
    {
      "cell_type": "markdown",
      "metadata": {
        "id": "JaCbDRhYbG5N"
      },
      "source": [
        "Saving the model with the vectorization layer, helps using the model on raw text"
      ]
    },
    {
      "cell_type": "code",
      "execution_count": null,
      "metadata": {
        "id": "j1aFLxlpYHws"
      },
      "outputs": [],
      "source": [
        "export_model = tf.keras.Sequential([\n",
        "  vectorize_layer,\n",
        "  model,\n",
        "  layers.Activation('sigmoid')\n",
        "])\n",
        "\n",
        "export_model.compile(\n",
        "    loss=losses.BinaryCrossentropy(from_logits=False), optimizer=\"adam\", metrics=['accuracy']\n",
        ")# Test it with `raw_test_ds`, which yields raw strings\n",
        "\n",
        "export_model.save('./models/DL_solution/rnn_with_vectorization')"
      ]
    },
    {
      "cell_type": "markdown",
      "metadata": {
        "id": "QBHAZbWzbRrI"
      },
      "source": [
        "### Prediction in text"
      ]
    },
    {
      "cell_type": "code",
      "execution_count": null,
      "metadata": {
        "id": "Pd8bX8CUbTi8"
      },
      "outputs": [],
      "source": [
        "test_reviews = [\n",
        "  \"The movie was great!\",\n",
        "  \"The movie was excellent\",\n",
        "  \"The movie was outstanding. I would like to watch again...\",\n",
        "  \"The movie was terrible... total waste of money...\"\n",
        "]"
      ]
    },
    {
      "cell_type": "code",
      "execution_count": null,
      "metadata": {
        "colab": {
          "base_uri": "https://localhost:8080/"
        },
        "id": "uU8zbyoMbbMJ",
        "outputId": "ccb38278-d002-4ccb-b71a-d5b37066b9a4"
      },
      "outputs": [
        {
          "data": {
            "text/plain": [
              "array([[0.8716313 ],\n",
              "       [0.888394  ],\n",
              "       [0.7556651 ],\n",
              "       [0.02419949]], dtype=float32)"
            ]
          },
          "execution_count": 42,
          "metadata": {},
          "output_type": "execute_result"
        }
      ],
      "source": [
        "export_model.predict(test_reviews)"
      ]
    }
  ],
  "metadata": {
    "accelerator": "GPU",
    "colab": {
      "provenance": []
    },
    "kernelspec": {
      "display_name": "Python 3",
      "name": "python3"
    },
    "language_info": {
      "name": "python"
    }
  },
  "nbformat": 4,
  "nbformat_minor": 0
}
